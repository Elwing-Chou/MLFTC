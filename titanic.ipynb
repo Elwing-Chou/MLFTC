{
  "nbformat": 4,
  "nbformat_minor": 0,
  "metadata": {
    "colab": {
      "name": "titanic.ipynb",
      "version": "0.3.2",
      "provenance": []
    },
    "kernelspec": {
      "name": "python3",
      "display_name": "Python 3"
    }
  },
  "cells": [
    {
      "metadata": {
        "id": "A0kaoIQ_I6fG",
        "colab_type": "code",
        "colab": {}
      },
      "cell_type": "code",
      "source": [
        "from google.colab import drive\n",
        "drive.mount('/gdrive')"
      ],
      "execution_count": 0,
      "outputs": []
    },
    {
      "metadata": {
        "id": "PiW7ty4dJBSW",
        "colab_type": "code",
        "colab": {}
      },
      "cell_type": "code",
      "source": [
        "import pandas as pd\n",
        "traindf = pd.read_csv(\"/gdrive/My Drive/titanic/train.csv\", encoding=\"utf-8\")\n",
        "testdf = pd.read_csv(\"/gdrive/My Drive/titanic/test.csv\", encoding=\"utf-8\")\n",
        "traindf"
      ],
      "execution_count": 0,
      "outputs": []
    },
    {
      "metadata": {
        "id": "cGDQBni6Lazp",
        "colab_type": "code",
        "colab": {}
      },
      "cell_type": "code",
      "source": [
        "traindf.isna().sum()"
      ],
      "execution_count": 0,
      "outputs": []
    },
    {
      "metadata": {
        "id": "0xdT2XKuLOug",
        "colab_type": "code",
        "colab": {}
      },
      "cell_type": "code",
      "source": [
        "med = traindf.median()\n",
        "traindf = traindf.fillna(med)\n",
        "testdf = testdf.fillna(med)\n",
        "traindf.isna().sum()"
      ],
      "execution_count": 0,
      "outputs": []
    },
    {
      "metadata": {
        "id": "mbOUMDhzMf4u",
        "colab_type": "code",
        "colab": {}
      },
      "cell_type": "code",
      "source": [
        "most = traindf[\"Embarked\"].value_counts().idxmax()\n",
        "traindf[\"Embarked\"] = traindf[\"Embarked\"].fillna(most)\n",
        "testdf[\"Embarked\"] = testdf[\"Embarked\"].fillna(most)\n",
        "traindf.isna().sum()"
      ],
      "execution_count": 0,
      "outputs": []
    },
    {
      "metadata": {
        "id": "rhaNMx7ENcZ6",
        "colab_type": "code",
        "colab": {}
      },
      "cell_type": "code",
      "source": [
        "testdf.isna().sum()"
      ],
      "execution_count": 0,
      "outputs": []
    }
  ]
}