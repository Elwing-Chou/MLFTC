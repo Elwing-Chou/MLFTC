{
  "nbformat": 4,
  "nbformat_minor": 0,
  "metadata": {
    "colab": {
      "name": "table.ipynb",
      "version": "0.3.2",
      "provenance": []
    },
    "kernelspec": {
      "name": "python3",
      "display_name": "Python 3"
    }
  },
  "cells": [
    {
      "cell_type": "code",
      "metadata": {
        "id": "kL5bXt9f7zKB",
        "colab_type": "code",
        "colab": {}
      },
      "source": [
        "from urllib.request import urlopen\n",
        "from bs4 import BeautifulSoup\n",
        "url = \"http://insideairbnb.com/get-the-data.html\"\n",
        "response = urlopen(url)\n",
        "html = BeautifulSoup(response)"
      ],
      "execution_count": 0,
      "outputs": []
    },
    {
      "cell_type": "code",
      "metadata": {
        "id": "qExce2HM9EID",
        "colab_type": "code",
        "colab": {
          "base_uri": "https://localhost:8080/",
          "height": 1000
        },
        "outputId": "c5a94783-1f0a-432d-fc52-33a91af421cd"
      },
      "source": [
        "tables = html.find_all(\"table\")\n",
        "for t in tables:\n",
        "    body = t.find(\"tbody\")\n",
        "    row = body.find_all(\"tr\")[3]\n",
        "    country = row.find_all(\"td\")[1].text\n",
        "    listing = row.find_all(\"td\")[2].find(\"a\")[\"href\"]\n",
        "    print(country, listing)"
      ],
      "execution_count": 7,
      "outputs": [
        {
          "output_type": "stream",
          "text": [
            "Amsterdam http://data.insideairbnb.com/the-netherlands/north-holland/amsterdam/2019-05-06/visualisations/listings.csv\n",
            "Antwerp http://data.insideairbnb.com/belgium/vlg/antwerp/2019-05-23/visualisations/listings.csv\n",
            "Asheville http://data.insideairbnb.com/united-states/nc/asheville/2019-06-26/visualisations/listings.csv\n",
            "Athens http://data.insideairbnb.com/greece/attica/athens/2019-06-10/visualisations/listings.csv\n",
            "Austin http://data.insideairbnb.com/united-states/tx/austin/2019-05-14/visualisations/listings.csv\n",
            "Barcelona http://data.insideairbnb.com/spain/catalonia/barcelona/2019-05-14/visualisations/listings.csv\n",
            "Barossa Valley http://data.insideairbnb.com/australia/sa/barossa-valley/2019-05-22/visualisations/listings.csv\n",
            "Barwon South West, Vic http://data.insideairbnb.com/australia/vic/barwon-south-west-vic/2019-06-25/visualisations/listings.csv\n",
            "Beijing http://data.insideairbnb.com/china/beijing/beijing/2019-05-21/visualisations/listings.csv\n",
            "Belize http://data.insideairbnb.com/belize/bz/belize/2019-05-26/visualisations/listings.csv\n",
            "Bergamo http://data.insideairbnb.com/italy/lombardia/bergamo/2019-05-30/visualisations/listings.csv\n",
            "Berlin http://data.insideairbnb.com/germany/be/berlin/2019-05-14/visualisations/listings.csv\n",
            "Bologna http://data.insideairbnb.com/italy/emilia-romagna/bologna/2019-06-08/visualisations/listings.csv\n",
            "Bordeaux http://data.insideairbnb.com/france/nouvelle-aquitaine/bordeaux/2019-05-23/visualisations/listings.csv\n",
            "Boston http://data.insideairbnb.com/united-states/ma/boston/2019-05-19/visualisations/listings.csv\n",
            "Bristol http://data.insideairbnb.com/united-kingdom/england/bristol/2019-05-19/visualisations/listings.csv\n",
            "Broward County http://data.insideairbnb.com/united-states/fl/broward-county/2019-05-19/visualisations/listings.csv\n",
            "Brussels http://data.insideairbnb.com/belgium/bru/brussels/2019-06-10/visualisations/listings.csv\n",
            "Buenos Aires http://data.insideairbnb.com/argentina/ciudad-aut%C3%B3noma-de-buenos-aires/buenos-aires/2019-04-17/visualisations/listings.csv\n",
            "Cambridge http://data.insideairbnb.com/united-states/ma/cambridge/2019-06-24/visualisations/listings.csv\n",
            "Cape Town http://data.insideairbnb.com/south-africa/wc/cape-town/2019-05-23/visualisations/listings.csv\n",
            "Chicago http://data.insideairbnb.com/united-states/il/chicago/2019-05-19/visualisations/listings.csv\n",
            "Clark County, NV http://data.insideairbnb.com/united-states/nv/clark-county-nv/2019-06-25/visualisations/listings.csv\n",
            "Columbus http://data.insideairbnb.com/united-states/oh/columbus/2019-05-18/visualisations/listings.csv\n",
            "Copenhagen http://data.insideairbnb.com/denmark/hovedstaden/copenhagen/2019-06-27/visualisations/listings.csv\n",
            "Crete http://data.insideairbnb.com/greece/crete/crete/2019-06-26/visualisations/listings.csv\n",
            "Denver http://data.insideairbnb.com/united-states/co/denver/2019-05-29/visualisations/listings.csv\n",
            "Dublin http://data.insideairbnb.com/ireland/leinster/dublin/2019-06-25/visualisations/listings.csv\n",
            "Edinburgh http://data.insideairbnb.com/united-kingdom/scotland/edinburgh/2019-05-24/visualisations/listings.csv\n",
            "Euskadi http://data.insideairbnb.com/spain/pv/euskadi/2019-06-30/visualisations/listings.csv\n",
            "Florence http://data.insideairbnb.com/italy/toscana/florence/2019-05-21/visualisations/listings.csv\n",
            "Geneva http://data.insideairbnb.com/switzerland/geneva/geneva/2019-05-25/visualisations/listings.csv\n",
            "Ghent http://data.insideairbnb.com/belgium/vlg/ghent/2019-06-16/visualisations/listings.csv\n",
            "Girona http://data.insideairbnb.com/spain/catalonia/girona/2019-05-29/visualisations/listings.csv\n",
            "Greater Manchester http://data.insideairbnb.com/united-kingdom/england/greater-manchester/2019-05-14/visualisations/listings.csv\n",
            "Hawaii http://data.insideairbnb.com/united-states/hi/hawaii/2019-06-03/visualisations/listings.csv\n",
            "Hong Kong http://data.insideairbnb.com/china/hk/hong-kong/2019-06-10/visualisations/listings.csv\n",
            "Ireland http://data.insideairbnb.com/ireland/2019-05-12/visualisations/listings.csv\n",
            "Istanbul http://data.insideairbnb.com/turkey/marmara/istanbul/2019-05-29/visualisations/listings.csv\n",
            "Jersey City http://data.insideairbnb.com/united-states/nj/jersey-city/2019-06-29/visualisations/listings.csv\n",
            "Lisbon http://data.insideairbnb.com/portugal/lisbon/lisbon/2019-06-26/visualisations/listings.csv\n",
            "London http://data.insideairbnb.com/united-kingdom/england/london/2019-06-05/visualisations/listings.csv\n",
            "Los Angeles http://data.insideairbnb.com/united-states/ca/los-angeles/2019-05-05/visualisations/listings.csv\n",
            "Lyon http://data.insideairbnb.com/france/auvergne-rhone-alpes/lyon/2019-05-23/visualisations/listings.csv\n",
            "Madrid http://data.insideairbnb.com/spain/comunidad-de-madrid/madrid/2019-05-14/visualisations/listings.csv\n",
            "Malaga http://data.insideairbnb.com/spain/andaluc%C3%ADa/malaga/2019-05-30/visualisations/listings.csv\n",
            "Mallorca http://data.insideairbnb.com/spain/islas-baleares/mallorca/2019-06-27/visualisations/listings.csv\n",
            "Manchester http://data.insideairbnb.com/united-kingdom/england/manchester/2016-04-10/visualisations/listings.csv\n",
            "Melbourne http://data.insideairbnb.com/australia/vic/melbourne/2019-06-04/visualisations/listings.csv\n",
            "Menorca http://data.insideairbnb.com/spain/islas-baleares/menorca/2019-06-30/visualisations/listings.csv\n",
            "Mexico City http://data.insideairbnb.com/mexico/df/mexico-city/2019-05-22/visualisations/listings.csv\n",
            "Milan http://data.insideairbnb.com/italy/lombardy/milan/2019-05-14/visualisations/listings.csv\n",
            "Montreal http://data.insideairbnb.com/canada/qc/montreal/2019-06-10/visualisations/listings.csv\n",
            "Munich http://data.insideairbnb.com/germany/bv/munich/2019-05-22/visualisations/listings.csv\n",
            "Naples http://data.insideairbnb.com/italy/campania/naples/2019-05-14/visualisations/listings.csv\n",
            "Nashville http://data.insideairbnb.com/united-states/tn/nashville/2019-06-11/visualisations/listings.csv\n",
            "New Orleans http://data.insideairbnb.com/united-states/la/new-orleans/2019-05-05/visualisations/listings.csv\n",
            "New York City http://data.insideairbnb.com/united-states/ny/new-york-city/2019-06-02/visualisations/listings.csv\n",
            "Northern Rivers http://data.insideairbnb.com/australia/nsw/northern-rivers/2019-05-29/visualisations/listings.csv\n",
            "Oakland http://data.insideairbnb.com/united-states/ca/oakland/2019-05-18/visualisations/listings.csv\n",
            "Oslo http://data.insideairbnb.com/norway/oslo/oslo/2019-05-28/visualisations/listings.csv\n",
            "Ottawa http://data.insideairbnb.com/canada/on/ottawa/2019-05-31/visualisations/listings.csv\n",
            "Pacific Grove http://data.insideairbnb.com/united-states/ca/pacific-grove/2019-05-31/visualisations/listings.csv\n",
            "Paris http://data.insideairbnb.com/france/ile-de-france/paris/2019-06-05/visualisations/listings.csv\n",
            "Portland http://data.insideairbnb.com/united-states/or/portland/2019-06-07/visualisations/listings.csv\n",
            "Porto http://data.insideairbnb.com/portugal/norte/porto/2019-06-25/visualisations/listings.csv\n",
            "Prague http://data.insideairbnb.com/czech-republic/prague/prague/2019-05-28/visualisations/listings.csv\n",
            "Puglia http://data.insideairbnb.com/italy/puglia/puglia/2019-05-29/visualisations/listings.csv\n",
            "Quebec City http://data.insideairbnb.com/canada/qc/quebec-city/2019-06-06/visualisations/listings.csv\n",
            "Rhode Island http://data.insideairbnb.com/united-states/ri/rhode-island/2019-06-30/visualisations/listings.csv\n",
            "Rio de Janeiro http://data.insideairbnb.com/brazil/rj/rio-de-janeiro/2019-05-21/visualisations/listings.csv\n",
            "Rome http://data.insideairbnb.com/italy/lazio/rome/2019-05-14/visualisations/listings.csv\n",
            "Salem, OR http://data.insideairbnb.com/united-states/or/salem-or/2019-06-06/visualisations/listings.csv\n",
            "San Diego http://data.insideairbnb.com/united-states/ca/san-diego/2019-05-18/visualisations/listings.csv\n",
            "San Francisco http://data.insideairbnb.com/united-states/ca/san-francisco/2019-06-02/visualisations/listings.csv\n",
            "Santa Clara County http://data.insideairbnb.com/united-states/ca/santa-clara-county/2019-06-06/visualisations/listings.csv\n",
            "Santa Cruz County http://data.insideairbnb.com/united-states/ca/santa-cruz-county/2019-06-30/visualisations/listings.csv\n",
            "Santiago http://data.insideairbnb.com/chile/rm/santiago/2019-03-15/visualisations/listings.csv\n",
            "Seattle http://data.insideairbnb.com/united-states/wa/seattle/2019-05-18/visualisations/listings.csv\n",
            "Sevilla http://data.insideairbnb.com/spain/andaluc%C3%ADa/sevilla/2019-05-29/visualisations/listings.csv\n",
            "Sicily http://data.insideairbnb.com/italy/sicilia/sicily/2019-05-28/visualisations/listings.csv\n",
            "Singapore http://data.insideairbnb.com/singapore/sg/singapore/2019-05-23/visualisations/listings.csv\n",
            "South Aegean http://data.insideairbnb.com/greece/south-aegean/south-aegean/2019-05-28/visualisations/listings.csv\n",
            "Stockholm http://data.insideairbnb.com/sweden/stockholms-l%C3%A4n/stockholm/2019-06-28/visualisations/listings.csv\n",
            "Sydney http://data.insideairbnb.com/australia/nsw/sydney/2019-06-04/visualisations/listings.csv\n",
            "Taipei http://data.insideairbnb.com/taiwan/northern-taiwan/taipei/2019-05-31/visualisations/listings.csv\n",
            "Tasmania http://data.insideairbnb.com/australia/tas/tasmania/2019-05-05/visualisations/listings.csv\n",
            "Thessaloniki http://data.insideairbnb.com/greece/central-macedonia/thessaloniki/2019-06-11/visualisations/listings.csv\n",
            "Tokyo http://data.insideairbnb.com/japan/kant%C5%8D/tokyo/2019-06-27/visualisations/listings.csv\n",
            "Toronto http://data.insideairbnb.com/canada/on/toronto/2019-06-04/visualisations/listings.csv\n",
            "Trentino http://data.insideairbnb.com/italy/trentino-alto-adige-s%C3%BCdtirol/trentino/2015-10-12/visualisations/listings.csv\n",
            "Twin Cities MSA http://data.insideairbnb.com/united-states/mn/twin-cities-msa/2019-06-02/visualisations/listings.csv\n",
            "United States http://data.insideairbnb.com/united-states/2016-04-18/visualisations/listings.csv\n",
            "Valencia http://data.insideairbnb.com/spain/vc/valencia/2019-05-31/visualisations/listings.csv\n",
            "Vancouver http://data.insideairbnb.com/canada/bc/vancouver/2019-06-07/visualisations/listings.csv\n",
            "Vaud http://data.insideairbnb.com/switzerland/vd/vaud/2019-05-29/visualisations/listings.csv\n",
            "Venice http://data.insideairbnb.com/italy/veneto/venice/2019-06-07/visualisations/listings.csv\n",
            "Victoria http://data.insideairbnb.com/canada/bc/victoria/2019-05-26/visualisations/listings.csv\n",
            "Vienna http://data.insideairbnb.com/austria/vienna/vienna/2019-06-11/visualisations/listings.csv\n",
            "Washington, D.C. http://data.insideairbnb.com/united-states/dc/washington-dc/2019-06-16/visualisations/listings.csv\n",
            "Western Australia http://data.insideairbnb.com/australia/wa/western-australia/2019-05-05/visualisations/listings.csv\n"
          ],
          "name": "stdout"
        }
      ]
    },
    {
      "cell_type": "code",
      "metadata": {
        "id": "yiQ7Z5wz9NE1",
        "colab_type": "code",
        "colab": {}
      },
      "source": [
        ""
      ],
      "execution_count": 0,
      "outputs": []
    }
  ]
}