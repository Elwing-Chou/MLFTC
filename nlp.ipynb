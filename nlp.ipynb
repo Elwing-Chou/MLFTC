{
  "nbformat": 4,
  "nbformat_minor": 0,
  "metadata": {
    "colab": {
      "name": "nlp.ipynb",
      "version": "0.3.2",
      "provenance": []
    },
    "kernelspec": {
      "name": "python3",
      "display_name": "Python 3"
    }
  },
  "cells": [
    {
      "metadata": {
        "id": "Y4sZyJRFbmDV",
        "colab_type": "code",
        "colab": {
          "base_uri": "https://localhost:8080/",
          "height": 55
        },
        "outputId": "08404151-b9da-43d8-dc14-19e7f9965850"
      },
      "cell_type": "code",
      "source": [
        "!python -m pip install jieba"
      ],
      "execution_count": 1,
      "outputs": [
        {
          "output_type": "stream",
          "text": [
            "Requirement already satisfied: jieba in /usr/local/lib/python3.6/dist-packages (0.39)\n"
          ],
          "name": "stdout"
        }
      ]
    },
    {
      "metadata": {
        "id": "r5bURdwMcNiM",
        "colab_type": "code",
        "colab": {}
      },
      "cell_type": "code",
      "source": [
        "s = \"\"\"【2019. 3. 28 英國】\n",
        "\n",
        "脫歐的政爭高潮：英國首相梅伊提出「辭職交換」，周五定生死？\n",
        "\n",
        "「支持《梅伊版脫歐》，梅伊本人就下台辭職！」在歷經漫長的脫歐生死鬥後，英國首相梅伊（Theresa May）周三向執政的保守黨國會黨團表示：自己將在本周五，「第三度」要求國會表決自己與歐盟談判達成的《梅伊版脫歐草案協議》。如果國會終於願意通過本案，作為首相的梅伊就願意在「英國脫歐確認」——也就是5月22日午夜——後，辭去首相與保守黨領袖的職位，把後脫歐時代對歐談判的重責大任，交給「更適任的保守黨人選」。消息一出，以狡詐與雄辯聞名的「脫歐戰將」前外相鮑里斯．強森（Boris Johnson），馬上公開倒戈「支持梅伊方案」；但過半的保守黨脫歐鷹派與北愛爾蘭保皇派，卻對此無動於衷，反稱梅伊的「辭職交換」是「懦弱、無建設性且不負責任的政治把戲！」\n",
        "\n",
        "\n",
        "▌延伸閱讀：〈兩個星期的寬限：歐盟同意英國「推遲脫歐」，暫限4月12日〉\n",
        "\n",
        "英國脫歐的即時進度如下：儘管英國首相梅伊已於去年11月，與歐盟當局就「脫歐方案」達成共識，雙方亦簽署了俗稱的《梅伊版脫歐草案協議》。但內容中關於「北愛爾蘭邊界問題」的爭議，卻讓梅伊的國會盟友——北愛爾蘭保皇派「民主聯盟黨」（DUP）與保守黨的脫歐鷹派——反戈狙擊，並使國會兩度否決了《梅伊版脫歐案》。\n",
        "\n",
        "根據先前的脫歐時程，英國本該在2019年3月29日午夜11點的「脫歐零時」後，正式與歐盟分手；但英國國會遲遲無法認可《梅伊版脫歐案》，卻又投票表達了「不願意『無協議脫歐』（No-Deal）」的意向。無奈矛盾之下，梅伊也只能向歐盟提出「順延脫歐」的緊急申請，並獲得歐盟給予的「兩周寬限期」。\n",
        "\n",
        "歐盟27國表示：英國脫歐的寬限期，已從3月29日延遲到4月12日。在這兩星期的寬限期間，梅伊必須想辦法說服國會通過《梅伊案》，屆時歐盟才會啟動「二度順延」，把脫歐零時的正式效期拉到2019年5月22日（也就是歐洲議會大選前一天）。\n",
        "\n",
        "但若英國國會仍否定《梅伊案》，那麼英國則有三條路可選：（1）準備好412的「無協議脫歐」；（2）英國政府或國會，必須提出「有效可行且具歐盟認可性」的脫歐替代方案；（3）梅伊再度申請順延並經歐盟同意，英國必須加入2019歐洲議會大選，並延後、甚至擱置脫歐1年以上。\n",
        "\n",
        "於是被逼上最後關頭的梅伊，才會決定於3月29日——本周五下午——第三度向國會提交《梅伊版脫歐案》；但在本周一，以工黨為首的在野聯盟與保守黨留歐派，卻先發制人地提出議案，決定要由梅伊內閣手中「取回『脫歐替代路線』的制定權」。\n",
        "\n",
        "周四下午，英國國會針對「替代路線」，一連發起了「8種方案」的意向投票。但在纏鬥一整天後，8種替代路線竟全遭否決、「無一過關」。\"\"\""
      ],
      "execution_count": 0,
      "outputs": []
    },
    {
      "metadata": {
        "id": "uZBPkk2tcmIL",
        "colab_type": "code",
        "colab": {
          "base_uri": "https://localhost:8080/",
          "height": 106
        },
        "outputId": "c4c454f6-79df-48f4-e530-fbbae3bffd3f"
      },
      "cell_type": "code",
      "source": [
        "from jieba.analyse import extract_tags\n",
        "extract_tags(s, 5)"
      ],
      "execution_count": 4,
      "outputs": [
        {
          "output_type": "stream",
          "text": [
            "Building prefix dict from the default dictionary ...\n",
            "Dumping model to file cache /tmp/jieba.cache\n",
            "Loading model cost 1.138 seconds.\n",
            "Prefix dict has been built succesfully.\n"
          ],
          "name": "stderr"
        },
        {
          "output_type": "execute_result",
          "data": {
            "text/plain": [
              "['脫歐', '梅伊', '歐盟', '英國', '2019']"
            ]
          },
          "metadata": {
            "tags": []
          },
          "execution_count": 4
        }
      ]
    },
    {
      "metadata": {
        "id": "DJXkG3DofHSF",
        "colab_type": "code",
        "colab": {
          "base_uri": "https://localhost:8080/",
          "height": 35
        },
        "outputId": "c1246341-d868-407b-96ab-62dadbfb02cf"
      },
      "cell_type": "code",
      "source": [
        "from urllib.request import urlretrieve\n",
        "url = \"https://github.com/fxsjy/jieba/raw/master/extra_dict/dict.txt.big\"\n",
        "urlretrieve(url, \"big.txt\")"
      ],
      "execution_count": 7,
      "outputs": [
        {
          "output_type": "execute_result",
          "data": {
            "text/plain": [
              "('big.txt', <http.client.HTTPMessage at 0x7fa77c485048>)"
            ]
          },
          "metadata": {
            "tags": []
          },
          "execution_count": 7
        }
      ]
    },
    {
      "metadata": {
        "id": "5QklTK_QeFdR",
        "colab_type": "code",
        "colab": {
          "base_uri": "https://localhost:8080/",
          "height": 54
        },
        "outputId": "4e969a23-81e2-406f-ac3d-add4f03a0b72"
      },
      "cell_type": "code",
      "source": [
        "from jieba import cut, load_userdict, add_word\n",
        "# \" \".join([\"a\", \"b\", \"c\"])\n",
        "load_userdict(\"big.txt\")\n",
        "# 你也可以準備一個專門的txt黨來放這些專有名詞\n",
        "add_word(\"梅伊\")\n",
        "add_word(\"脫歐\")\n",
        "add_word(\"國會\")\n",
        "add_word(\"保守黨\")\n",
        "\" \".join(cut(s))"
      ],
      "execution_count": 11,
      "outputs": [
        {
          "output_type": "execute_result",
          "data": {
            "text/plain": [
              "'【 2019 .   3 .   28   英國 】 \\n \\n 脫歐 的 政爭 高潮 ： 英國首相 梅伊 提出 「 辭職 交換 」 ， 周五 定 生死 ？ \\n \\n 「 支持 《 梅伊 版 脫歐 》 ， 梅伊 本人 就 下台 辭職 ！ 」 在 歷經 漫長 的 脫歐 生死 鬥後 ， 英國首相 梅伊 （ Theresa   May ） 周三 向 執政 的 保守黨 國會 黨團 表示 ： 自己 將在 本 周五 ， 「 第三度 」 要求 國會 表決 自己 與 歐盟 談判 達成 的 《 梅伊 版 脫歐 草案 協議 》 。 如果 國會 終於 願意 通過 本案 ， 作為 首相 的 梅伊 就 願意 在 「 英國 脫歐 確認 」 — — 也 就是 5 月 22 日 午夜 — — 後 ， 辭去 首 相與 保守黨 領袖 的 職位 ， 把 後 脫歐 時代 對歐 談判 的 重責大任 ， 交給 「 更 適任 的 保守黨 人選 」 。 消息 一出 ， 以 狡詐 與 雄辯 聞名 的 「 脫歐 戰將 」 前 外相 鮑里斯 ． 強森 （ Boris   Johnson ） ， 馬上 公開 倒戈 「 支持 梅伊 方案 」 ； 但 過半 的 保守黨 脫歐 鷹派 與 北愛爾蘭 保皇派 ， 卻 對此 無動於衷 ， 反稱 梅伊 的 「 辭職 交換 」 是 「 懦弱 、 無 建設性 且 不負責任 的 政治 把戲 ！ 」 \\n \\n \\n ▌ 延伸 閱讀 ： 〈 兩個 星期 的 寬限 ： 歐盟 同意 英國 「 推遲 脫歐 」 ， 暫限 4 月 12 日 〉 \\n \\n 英國 脫歐 的 即時 進度 如下 ： 儘管 英國首相 梅伊 已於 去年 11 月 ， 與 歐盟 當局 就 「 脫歐 方案 」 達成 共識 ， 雙方 亦 簽署 了 俗稱 的 《 梅伊 版 脫歐 草案 協議 》 。 但 內容 中 關於 「 北愛爾蘭 邊界問題 」 的 爭議 ， 卻 讓 梅伊 的 國會 盟友 — — 北愛爾蘭 保皇派 「 民主聯盟 黨 」 （ DUP ） 與 保守黨 的 脫歐 鷹派 — — 反戈 狙擊 ， 並使 國會 兩度 否決 了 《 梅伊 版 脫歐 案 》 。 \\n \\n 根據 先前 的 脫歐 時程 ， 英國 本該 在 2019 年 3 月 29 日 午夜 11 點的 「 脫歐 零時 」 後 ， 正式 與 歐盟 分手 ； 但 英國 國會 遲遲 無法 認可 《 梅伊 版 脫歐 案 》 ， 卻 又 投票 表達 了 「 不 願意 『 無 協議 脫歐 』 （ No - Deal ） 」 的 意向 。 無奈 矛盾 之下 ， 梅伊 也 只能 向 歐盟 提出 「 順延 脫歐 」 的 緊急 申請 ， 並 獲得 歐盟 給予 的 「 兩周 寬限期 」 。 \\n \\n 歐盟 27 國 表示 ： 英國 脫歐 的 寬限期 ， 已 從 3 月 29 日 延遲 到 4 月 12 日 。 在 這兩 星期 的 寬限 期間 ， 梅伊 必須 想 辦法 說服 國會 通過 《 梅伊 案 》 ， 屆時 歐盟 才 會 啟動 「 二度 順延 」 ， 把 脫歐 零時 的 正式 效期 拉到 2019 年 5 月 22 日 （ 也 就是 歐洲議會 大選 前一天 ） 。 \\n \\n 但 若 英國 國會 仍 否定 《 梅伊 案 》 ， 那麼 英國 則有 三條 路可選 ： （ 1 ） 準備 好 412 的 「 無 協議 脫歐 」 ； （ 2 ） 英國政府 或 國會 ， 必須 提出 「 有效 可行 且 具 歐盟 認可 性 」 的 脫歐 替代 方案 ； （ 3 ） 梅伊 再度 申請 順延 並經 歐盟 同意 ， 英國 必須 加入 2019 歐洲議會 大選 ， 並 延後 、 甚至 擱置 脫歐 1 年 以上 。 \\n \\n 於是 被 逼 上 最後 關頭 的 梅伊 ， 才 會 決定 於 3 月 29 日 — — 本 周五 下午 — — 第三度 向 國會 提交 《 梅伊 版 脫歐 案 》 ； 但 在 本周一 ， 以 工黨 為首 的 在野 聯盟 與 保守黨 留歐 派 ， 卻 先發制人 地 提出 議案 ， 決定 要 由 梅伊 內閣 手中 「 取回 『 脫歐 替代 路線 』 的 制定 權 」 。 \\n \\n 周四 下午 ， 英國 國會 針對 「 替代 路線 」 ， 一連 發起 了 「 8 種 方案 」 的 意向 投票 。 但 在 纏鬥 一整天 後 ， 8 種 替代 路線 竟全 遭 否決 、 「 無一 過關 」 。'"
            ]
          },
          "metadata": {
            "tags": []
          },
          "execution_count": 11
        }
      ]
    },
    {
      "metadata": {
        "id": "ei2wFN3EePYy",
        "colab_type": "code",
        "colab": {
          "base_uri": "https://localhost:8080/",
          "height": 34
        },
        "outputId": "fed5954e-32cd-4be1-f299-e1e55e751a48"
      },
      "cell_type": "code",
      "source": [
        "from jieba.analyse import extract_tags\n",
        "extract_tags(s, 5)"
      ],
      "execution_count": 12,
      "outputs": [
        {
          "output_type": "execute_result",
          "data": {
            "text/plain": [
              "['脫歐', '梅伊', '英國', '國會', '歐盟']"
            ]
          },
          "metadata": {
            "tags": []
          },
          "execution_count": 12
        }
      ]
    }
  ]
}