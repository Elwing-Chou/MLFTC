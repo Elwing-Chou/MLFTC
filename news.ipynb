{
  "nbformat": 4,
  "nbformat_minor": 0,
  "metadata": {
    "colab": {
      "name": "news.ipynb",
      "version": "0.3.2",
      "provenance": []
    },
    "kernelspec": {
      "name": "python3",
      "display_name": "Python 3"
    }
  },
  "cells": [
    {
      "metadata": {
        "id": "MEAjxdLivufE",
        "colab_type": "code",
        "colab": {}
      },
      "cell_type": "code",
      "source": [
        "# https://reurl.cc/VWZjQ"
      ],
      "execution_count": 0,
      "outputs": []
    },
    {
      "metadata": {
        "id": "5BdUgCLrwEA4",
        "colab_type": "code",
        "colab": {}
      },
      "cell_type": "code",
      "source": [
        "from google.colab import drive\n",
        "drive.mount('/gdrive')"
      ],
      "execution_count": 0,
      "outputs": []
    },
    {
      "metadata": {
        "id": "LHjEAcvTwTSw",
        "colab_type": "code",
        "colab": {}
      },
      "cell_type": "code",
      "source": [
        "import zipfile\n",
        "f = zipfile.ZipFile(\"/gdrive/My Drive/trans.zip\")\n",
        "f.extractall(\"news\")\n",
        "f = zipfile.ZipFile(\"/gdrive/My Drive/test.zip\")\n",
        "f.extractall(\"newstest\")"
      ],
      "execution_count": 0,
      "outputs": []
    },
    {
      "metadata": {
        "id": "GGLdYhdKxQQl",
        "colab_type": "code",
        "colab": {}
      },
      "cell_type": "code",
      "source": [
        "import glob\n",
        "import pandas as pd\n",
        "traindf = pd.DataFrame(columns=[\"content\", \"category\"])\n",
        "for fn in glob.glob(\"news/chinese_news_trans/*/*.txt\"):\n",
        "    f = open(fn, \"r\", encoding=\"utf-8\")\n",
        "    article = f.read()\n",
        "    f.close()\n",
        "    cat = fn.split(\"/\")[-2]\n",
        "    s = pd.Series([article, cat], index=[\"content\", \"category\"])\n",
        "    traindf = traindf.append(s, ignore_index=True)\n",
        "for fn in glob.glob(\"news/chinese_news_trans/*/*.TXT\"):\n",
        "    f = open(fn, \"r\", encoding=\"utf-8\")\n",
        "    article = f.read()\n",
        "    f.close()\n",
        "    cat = fn.split(\"/\")[-2]\n",
        "    s = pd.Series([article, cat], index=[\"content\", \"category\"])\n",
        "    traindf = traindf.append(s, ignore_index=True)\n",
        "traindf"
      ],
      "execution_count": 0,
      "outputs": []
    },
    {
      "metadata": {
        "id": "9ZyefjcM5EG1",
        "colab_type": "code",
        "colab": {}
      },
      "cell_type": "code",
      "source": [
        "testdf = pd.DataFrame(columns=[\"content\", \"category\"])\n",
        "for fn in glob.glob(\"newstest/chinese_news_test/*/*.txt\"):\n",
        "    f = open(fn, \"r\", encoding=\"utf-8\")\n",
        "    article = f.read()\n",
        "    f.close()\n",
        "    cat = fn.split(\"/\")[-2]\n",
        "    s = pd.Series([article, cat], index=[\"content\", \"category\"])\n",
        "    testdf = testdf.append(s, ignore_index=True)\n",
        "for fn in glob.glob(\"newstest/chinese_news_test/*/*.TXT\"):\n",
        "    f = open(fn, \"r\", encoding=\"utf-8\")\n",
        "    article = f.read()\n",
        "    f.close()\n",
        "    cat = fn.split(\"/\")[-2]\n",
        "    s = pd.Series([article, cat], index=[\"content\", \"category\"])\n",
        "    testdf = testdf.append(s, ignore_index=True)\n",
        "testdf"
      ],
      "execution_count": 0,
      "outputs": []
    },
    {
      "metadata": {
        "id": "TChZWNL16fyH",
        "colab_type": "code",
        "colab": {}
      },
      "cell_type": "code",
      "source": [
        "import jieba\n",
        "def cutflow(s):\n",
        "    return \" \".join(jieba.cut(s)).replace(\"\\r\", \"\").replace(\"\\n\", \"\")\n",
        "traindf[\"content\"] = traindf[\"content\"].apply(cutflow)\n",
        "testdf[\"content\"] = testdf[\"content\"].apply(cutflow)\n",
        "testdf"
      ],
      "execution_count": 0,
      "outputs": []
    },
    {
      "metadata": {
        "id": "AivGNp3B7V1P",
        "colab_type": "code",
        "colab": {}
      },
      "cell_type": "code",
      "source": [
        "cat = traindf[\"category\"].unique()\n",
        "# {\"環境\":0}\n",
        "trans = {c:i for (i, c) in enumerate(cat)}\n",
        "traindf[\"category\"] = traindf[\"category\"].replace(trans)\n",
        "testdf[\"category\"] = testdf[\"category\"].replace(trans)\n",
        "testdf"
      ],
      "execution_count": 0,
      "outputs": []
    },
    {
      "metadata": {
        "id": "3adW_jwRCdLQ",
        "colab_type": "code",
        "colab": {}
      },
      "cell_type": "code",
      "source": [
        "from sklearn.feature_extraction.text import CountVectorizer\n",
        "vec = CountVectorizer()\n",
        "x_train = vec.fit_transform(traindf[\"content\"])\n",
        "x_test = vec.transform(testdf[\"content\"])"
      ],
      "execution_count": 0,
      "outputs": []
    },
    {
      "metadata": {
        "id": "OgLhs37cC-V4",
        "colab_type": "code",
        "colab": {
          "base_uri": "https://localhost:8080/",
          "height": 34
        },
        "outputId": "3aed140b-c73c-42ff-bd9d-3602416fa937"
      },
      "cell_type": "code",
      "source": [
        "from sklearn.naive_bayes import MultinomialNB\n",
        "clf = MultinomialNB()\n",
        "clf.fit(x_train, traindf[\"category\"])"
      ],
      "execution_count": 41,
      "outputs": [
        {
          "output_type": "execute_result",
          "data": {
            "text/plain": [
              "MultinomialNB(alpha=1.0, class_prior=None, fit_prior=True)"
            ]
          },
          "metadata": {
            "tags": []
          },
          "execution_count": 41
        }
      ]
    },
    {
      "metadata": {
        "id": "3Q2EIa-JDRXY",
        "colab_type": "code",
        "colab": {
          "base_uri": "https://localhost:8080/",
          "height": 34
        },
        "outputId": "3c3c15e2-2891-40ff-a56a-a8fe5da36dfb"
      },
      "cell_type": "code",
      "source": [
        "from sklearn.metrics import accuracy_score\n",
        "pre = clf.predict(x_test)\n",
        "accuracy_score(pre, testdf[\"category\"])"
      ],
      "execution_count": 42,
      "outputs": [
        {
          "output_type": "execute_result",
          "data": {
            "text/plain": [
              "1.0"
            ]
          },
          "metadata": {
            "tags": []
          },
          "execution_count": 42
        }
      ]
    }
  ]
}