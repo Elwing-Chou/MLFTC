{
  "nbformat": 4,
  "nbformat_minor": 0,
  "metadata": {
    "colab": {
      "name": "poem.ipynb",
      "version": "0.3.2",
      "provenance": []
    },
    "kernelspec": {
      "name": "python3",
      "display_name": "Python 3"
    }
  },
  "cells": [
    {
      "metadata": {
        "id": "ZlPcQZbKBgAU",
        "colab_type": "code",
        "colab": {}
      },
      "cell_type": "code",
      "source": [
        "from google.colab import drive\n",
        "drive.mount('/gdrive')"
      ],
      "execution_count": 0,
      "outputs": []
    },
    {
      "metadata": {
        "id": "Ned1AGo-Bulw",
        "colab_type": "code",
        "colab": {}
      },
      "cell_type": "code",
      "source": [
        "import pandas as pd\n",
        "traindf = pd.read_csv(\"/gdrive/My Drive/poem_train.csv\", encoding=\"utf-8\")\n",
        "traindf"
      ],
      "execution_count": 0,
      "outputs": []
    },
    {
      "metadata": {
        "id": "lL1cUxgzCBK7",
        "colab_type": "code",
        "colab": {}
      },
      "cell_type": "code",
      "source": [
        "testdf = pd.read_csv(\"/gdrive/My Drive/poem_test.csv\", encoding=\"utf-8\")\n",
        "testdf"
      ],
      "execution_count": 0,
      "outputs": []
    }
  ]
}